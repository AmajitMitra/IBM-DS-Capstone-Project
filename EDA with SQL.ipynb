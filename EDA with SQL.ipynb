{
 "cells": [
  {
   "cell_type": "code",
   "execution_count": null,
   "id": "c7c6dc6e-7cf4-45f1-b2d1-4e417d26967b",
   "metadata": {},
   "outputs": [],
   "source": [
    "!pip install sqlalchemy==1.3.9"
   ]
  },
  {
   "cell_type": "code",
   "execution_count": 1,
   "id": "2db8b166-3aa4-4901-b535-927a10d05148",
   "metadata": {},
   "outputs": [
    {
     "name": "stdout",
     "output_type": "stream",
     "text": [
      "Collecting ipython-sql\n",
      "  Downloading ipython_sql-0.5.0-py3-none-any.whl.metadata (17 kB)\n",
      "Collecting prettytable (from ipython-sql)\n",
      "  Downloading prettytable-3.16.0-py3-none-any.whl.metadata (33 kB)\n",
      "Requirement already satisfied: ipython in /opt/conda/lib/python3.12/site-packages (from ipython-sql) (8.31.0)\n",
      "Requirement already satisfied: sqlalchemy>=2.0 in /opt/conda/lib/python3.12/site-packages (from ipython-sql) (2.0.37)\n",
      "Collecting sqlparse (from ipython-sql)\n",
      "  Downloading sqlparse-0.5.3-py3-none-any.whl.metadata (3.9 kB)\n",
      "Requirement already satisfied: six in /opt/conda/lib/python3.12/site-packages (from ipython-sql) (1.17.0)\n",
      "Requirement already satisfied: ipython-genutils in /opt/conda/lib/python3.12/site-packages (from ipython-sql) (0.2.0)\n",
      "Requirement already satisfied: greenlet!=0.4.17 in /opt/conda/lib/python3.12/site-packages (from sqlalchemy>=2.0->ipython-sql) (3.1.1)\n",
      "Requirement already satisfied: typing-extensions>=4.6.0 in /opt/conda/lib/python3.12/site-packages (from sqlalchemy>=2.0->ipython-sql) (4.12.2)\n",
      "Requirement already satisfied: decorator in /opt/conda/lib/python3.12/site-packages (from ipython->ipython-sql) (5.1.1)\n",
      "Requirement already satisfied: jedi>=0.16 in /opt/conda/lib/python3.12/site-packages (from ipython->ipython-sql) (0.19.2)\n",
      "Requirement already satisfied: matplotlib-inline in /opt/conda/lib/python3.12/site-packages (from ipython->ipython-sql) (0.1.7)\n",
      "Requirement already satisfied: pexpect>4.3 in /opt/conda/lib/python3.12/site-packages (from ipython->ipython-sql) (4.9.0)\n",
      "Requirement already satisfied: prompt_toolkit<3.1.0,>=3.0.41 in /opt/conda/lib/python3.12/site-packages (from ipython->ipython-sql) (3.0.50)\n",
      "Requirement already satisfied: pygments>=2.4.0 in /opt/conda/lib/python3.12/site-packages (from ipython->ipython-sql) (2.19.1)\n",
      "Requirement already satisfied: stack_data in /opt/conda/lib/python3.12/site-packages (from ipython->ipython-sql) (0.6.3)\n",
      "Requirement already satisfied: traitlets>=5.13.0 in /opt/conda/lib/python3.12/site-packages (from ipython->ipython-sql) (5.14.3)\n",
      "Requirement already satisfied: wcwidth in /opt/conda/lib/python3.12/site-packages (from prettytable->ipython-sql) (0.2.13)\n",
      "Requirement already satisfied: parso<0.9.0,>=0.8.4 in /opt/conda/lib/python3.12/site-packages (from jedi>=0.16->ipython->ipython-sql) (0.8.4)\n",
      "Requirement already satisfied: ptyprocess>=0.5 in /opt/conda/lib/python3.12/site-packages (from pexpect>4.3->ipython->ipython-sql) (0.7.0)\n",
      "Requirement already satisfied: executing>=1.2.0 in /opt/conda/lib/python3.12/site-packages (from stack_data->ipython->ipython-sql) (2.1.0)\n",
      "Requirement already satisfied: asttokens>=2.1.0 in /opt/conda/lib/python3.12/site-packages (from stack_data->ipython->ipython-sql) (3.0.0)\n",
      "Requirement already satisfied: pure_eval in /opt/conda/lib/python3.12/site-packages (from stack_data->ipython->ipython-sql) (0.2.3)\n",
      "Downloading ipython_sql-0.5.0-py3-none-any.whl (20 kB)\n",
      "Downloading prettytable-3.16.0-py3-none-any.whl (33 kB)\n",
      "Downloading sqlparse-0.5.3-py3-none-any.whl (44 kB)\n",
      "Installing collected packages: sqlparse, prettytable, ipython-sql\n",
      "Successfully installed ipython-sql-0.5.0 prettytable-3.16.0 sqlparse-0.5.3\n",
      "Requirement already satisfied: ipython-sql in /opt/conda/lib/python3.12/site-packages (0.5.0)\n",
      "Requirement already satisfied: prettytable in /opt/conda/lib/python3.12/site-packages (3.16.0)\n",
      "Requirement already satisfied: ipython in /opt/conda/lib/python3.12/site-packages (from ipython-sql) (8.31.0)\n",
      "Requirement already satisfied: sqlalchemy>=2.0 in /opt/conda/lib/python3.12/site-packages (from ipython-sql) (2.0.37)\n",
      "Requirement already satisfied: sqlparse in /opt/conda/lib/python3.12/site-packages (from ipython-sql) (0.5.3)\n",
      "Requirement already satisfied: six in /opt/conda/lib/python3.12/site-packages (from ipython-sql) (1.17.0)\n",
      "Requirement already satisfied: ipython-genutils in /opt/conda/lib/python3.12/site-packages (from ipython-sql) (0.2.0)\n",
      "Requirement already satisfied: wcwidth in /opt/conda/lib/python3.12/site-packages (from prettytable) (0.2.13)\n",
      "Requirement already satisfied: greenlet!=0.4.17 in /opt/conda/lib/python3.12/site-packages (from sqlalchemy>=2.0->ipython-sql) (3.1.1)\n",
      "Requirement already satisfied: typing-extensions>=4.6.0 in /opt/conda/lib/python3.12/site-packages (from sqlalchemy>=2.0->ipython-sql) (4.12.2)\n",
      "Requirement already satisfied: decorator in /opt/conda/lib/python3.12/site-packages (from ipython->ipython-sql) (5.1.1)\n",
      "Requirement already satisfied: jedi>=0.16 in /opt/conda/lib/python3.12/site-packages (from ipython->ipython-sql) (0.19.2)\n",
      "Requirement already satisfied: matplotlib-inline in /opt/conda/lib/python3.12/site-packages (from ipython->ipython-sql) (0.1.7)\n",
      "Requirement already satisfied: pexpect>4.3 in /opt/conda/lib/python3.12/site-packages (from ipython->ipython-sql) (4.9.0)\n",
      "Requirement already satisfied: prompt_toolkit<3.1.0,>=3.0.41 in /opt/conda/lib/python3.12/site-packages (from ipython->ipython-sql) (3.0.50)\n",
      "Requirement already satisfied: pygments>=2.4.0 in /opt/conda/lib/python3.12/site-packages (from ipython->ipython-sql) (2.19.1)\n",
      "Requirement already satisfied: stack_data in /opt/conda/lib/python3.12/site-packages (from ipython->ipython-sql) (0.6.3)\n",
      "Requirement already satisfied: traitlets>=5.13.0 in /opt/conda/lib/python3.12/site-packages (from ipython->ipython-sql) (5.14.3)\n",
      "Requirement already satisfied: parso<0.9.0,>=0.8.4 in /opt/conda/lib/python3.12/site-packages (from jedi>=0.16->ipython->ipython-sql) (0.8.4)\n",
      "Requirement already satisfied: ptyprocess>=0.5 in /opt/conda/lib/python3.12/site-packages (from pexpect>4.3->ipython->ipython-sql) (0.7.0)\n",
      "Requirement already satisfied: executing>=1.2.0 in /opt/conda/lib/python3.12/site-packages (from stack_data->ipython->ipython-sql) (2.1.0)\n",
      "Requirement already satisfied: asttokens>=2.1.0 in /opt/conda/lib/python3.12/site-packages (from stack_data->ipython->ipython-sql) (3.0.0)\n",
      "Requirement already satisfied: pure_eval in /opt/conda/lib/python3.12/site-packages (from stack_data->ipython->ipython-sql) (0.2.3)\n"
     ]
    }
   ],
   "source": [
    "!pip install ipython-sql\n",
    "!pip install ipython-sql prettytable"
   ]
  },
  {
   "cell_type": "code",
   "execution_count": 2,
   "id": "10e25bf4-ea6d-40af-b5a1-39c756687c89",
   "metadata": {},
   "outputs": [],
   "source": [
    "%load_ext sql"
   ]
  },
  {
   "cell_type": "code",
   "execution_count": 3,
   "id": "0b95c6fe-eb5f-4301-a0d4-ec7673c00459",
   "metadata": {},
   "outputs": [],
   "source": [
    "import csv, sqlite3\n",
    "import prettytable\n",
    "prettytable.DEFAULT = 'DEFAULT'\n",
    "\n",
    "con = sqlite3.connect(\"my_data1.db\")\n",
    "cur = con.cursor()"
   ]
  },
  {
   "cell_type": "code",
   "execution_count": 4,
   "id": "5e4c8c5e-9a2c-4542-86c4-5277d29c15e2",
   "metadata": {},
   "outputs": [],
   "source": [
    "!pip install -q pandas"
   ]
  },
  {
   "cell_type": "code",
   "execution_count": 5,
   "id": "6bdb61cf-7e0d-46b1-bb33-9c0d76a1c729",
   "metadata": {},
   "outputs": [],
   "source": [
    "%sql sqlite:///my_data1.db"
   ]
  },
  {
   "cell_type": "code",
   "execution_count": 6,
   "id": "b28cd216-473d-40ad-b63e-864328ee62c2",
   "metadata": {},
   "outputs": [
    {
     "data": {
      "text/plain": [
       "101"
      ]
     },
     "execution_count": 6,
     "metadata": {},
     "output_type": "execute_result"
    }
   ],
   "source": [
    "import pandas as pd\n",
    "df = pd.read_csv(\"https://cf-courses-data.s3.us.cloud-object-storage.appdomain.cloud/IBM-DS0321EN-SkillsNetwork/labs/module_2/data/Spacex.csv\")\n",
    "df.to_sql(\"SPACEXTBL\", con, if_exists='replace', index=False,method=\"multi\")"
   ]
  },
  {
   "cell_type": "code",
   "execution_count": 7,
   "id": "81f457bf-c0e9-41b0-8dbd-0973d47c0328",
   "metadata": {},
   "outputs": [
    {
     "name": "stdout",
     "output_type": "stream",
     "text": [
      " * sqlite:///my_data1.db\n",
      "Done.\n"
     ]
    },
    {
     "data": {
      "text/plain": [
       "[]"
      ]
     },
     "execution_count": 7,
     "metadata": {},
     "output_type": "execute_result"
    }
   ],
   "source": [
    "#DROP THE TABLE IF EXISTS\n",
    "\n",
    "%sql DROP TABLE IF EXISTS SPACEXTABLE;"
   ]
  },
  {
   "cell_type": "code",
   "execution_count": 8,
   "id": "372bce40-517c-4501-8c0c-774fb9b7b70d",
   "metadata": {},
   "outputs": [
    {
     "name": "stdout",
     "output_type": "stream",
     "text": [
      " * sqlite:///my_data1.db\n",
      "Done.\n"
     ]
    },
    {
     "data": {
      "text/plain": [
       "[]"
      ]
     },
     "execution_count": 8,
     "metadata": {},
     "output_type": "execute_result"
    }
   ],
   "source": [
    "%sql create table SPACEXTABLE as select * from SPACEXTBL where Date is not null"
   ]
  },
  {
   "cell_type": "code",
   "execution_count": 12,
   "id": "1b666457-1827-4320-8638-a45660f6243f",
   "metadata": {},
   "outputs": [
    {
     "name": "stdout",
     "output_type": "stream",
     "text": [
      "('CCAFS LC-40',)\n",
      "('VAFB SLC-4E',)\n",
      "('KSC LC-39A',)\n",
      "('CCAFS SLC-40',)\n"
     ]
    }
   ],
   "source": [
    "import sqlite3\n",
    "\n",
    "# Connect to your database (replace 'your_database.db' with your file)\n",
    "conn = sqlite3.connect('my_data1.db')\n",
    "cursor = conn.cursor()\n",
    "\n",
    "# Execute the SQL query\n",
    "cursor.execute('SELECT DISTINCT \"Launch_Site\" FROM SPACEXTBL')\n",
    "\n",
    "# Fetch and print the results\n",
    "results = cursor.fetchall()\n",
    "for row in results:\n",
    "    print(row)\n",
    "\n",
    "# Close the connection\n",
    "conn.close()\n"
   ]
  },
  {
   "cell_type": "code",
   "execution_count": 11,
   "id": "458e9ece-fa7c-4204-b399-7eba095e10c1",
   "metadata": {},
   "outputs": [
    {
     "name": "stdout",
     "output_type": "stream",
     "text": [
      "[('SPACEXTBL',), ('SPACEXTABLE',)]\n"
     ]
    }
   ],
   "source": [
    "cursor.execute(\"SELECT name FROM sqlite_master WHERE type='table';\")\n",
    "print(cursor.fetchall())\n"
   ]
  },
  {
   "cell_type": "code",
   "execution_count": 7,
   "id": "fc76d10a-6f53-45fc-8424-a72c723cf3e0",
   "metadata": {},
   "outputs": [
    {
     "name": "stdout",
     "output_type": "stream",
     "text": [
      "('2010-06-04', '18:45:00', 'F9 v1.0  B0003', 'CCAFS LC-40', 'Dragon Spacecraft Qualification Unit', 0, 'LEO', 'SpaceX', 'Success', 'Failure (parachute)')\n",
      "('2010-12-08', '15:43:00', 'F9 v1.0  B0004', 'CCAFS LC-40', 'Dragon demo flight C1, two CubeSats, barrel of Brouere cheese', 0, 'LEO (ISS)', 'NASA (COTS) NRO', 'Success', 'Failure (parachute)')\n",
      "('2012-05-22', '7:44:00', 'F9 v1.0  B0005', 'CCAFS LC-40', 'Dragon demo flight C2', 525, 'LEO (ISS)', 'NASA (COTS)', 'Success', 'No attempt')\n",
      "('2012-10-08', '0:35:00', 'F9 v1.0  B0006', 'CCAFS LC-40', 'SpaceX CRS-1', 500, 'LEO (ISS)', 'NASA (CRS)', 'Success', 'No attempt')\n",
      "('2013-03-01', '15:10:00', 'F9 v1.0  B0007', 'CCAFS LC-40', 'SpaceX CRS-2', 677, 'LEO (ISS)', 'NASA (CRS)', 'Success', 'No attempt')\n"
     ]
    }
   ],
   "source": [
    "# Connect to the database\n",
    "conn = sqlite3.connect('my_data1.db')\n",
    "cursor = conn.cursor()\n",
    "\n",
    "# Execute the SQL query\n",
    "cursor.execute('''\n",
    "    SELECT *\n",
    "    FROM SPACEXTBL\n",
    "    WHERE \"Launch_Site\" LIKE 'CCA%'\n",
    "    LIMIT 5;\n",
    "''')\n",
    "\n",
    "# Fetch and print results\n",
    "results = cursor.fetchall()\n",
    "for row in results:\n",
    "    print(row)\n",
    "\n",
    "# Close the connection\n",
    "conn.close()"
   ]
  },
  {
   "cell_type": "code",
   "execution_count": 9,
   "id": "27966c43-bcb5-4741-8d48-843da19a8480",
   "metadata": {},
   "outputs": [],
   "source": [
    "#Task3"
   ]
  },
  {
   "cell_type": "code",
   "execution_count": 10,
   "id": "7ac0b731-2b11-44fd-9a17-c63899369a2d",
   "metadata": {},
   "outputs": [
    {
     "name": "stdout",
     "output_type": "stream",
     "text": [
      "Total Payload Mass carried by NASA (CRS): 48213\n"
     ]
    }
   ],
   "source": [
    "import sqlite3\n",
    "\n",
    "# Connect to your database (update the path or name if needed)\n",
    "conn = sqlite3.connect('my_data1.db')\n",
    "cursor = conn.cursor()\n",
    "\n",
    "# Execute the query\n",
    "cursor.execute('''\n",
    "    SELECT SUM(\"PAYLOAD_MASS__KG_\") AS \"Total_Payload_Mass\"\n",
    "    FROM SPACEXTBL\n",
    "    WHERE \"Customer\" LIKE '%NASA (CRS)%';\n",
    "''')\n",
    "\n",
    "# Fetch and print the result\n",
    "result = cursor.fetchone()\n",
    "print(\"Total Payload Mass carried by NASA (CRS):\", result[0])\n"
   ]
  },
  {
   "cell_type": "code",
   "execution_count": 11,
   "id": "88570cd2-6797-4b4b-baba-1b1372ac8e7a",
   "metadata": {},
   "outputs": [],
   "source": [
    "# Task 4"
   ]
  },
  {
   "cell_type": "code",
   "execution_count": 12,
   "id": "864416ce-bcf4-4cf2-8d9e-6d58ccee8c85",
   "metadata": {},
   "outputs": [
    {
     "ename": "SyntaxError",
     "evalue": "invalid syntax (1495904684.py, line 1)",
     "output_type": "error",
     "traceback": [
      "\u001b[0;36m  Cell \u001b[0;32mIn[12], line 1\u001b[0;36m\u001b[0m\n\u001b[0;31m    SELECT AVG(\"PAYLOAD_MASS__KG_\") AS \"Average_Payload_Mass\"\u001b[0m\n\u001b[0m           ^\u001b[0m\n\u001b[0;31mSyntaxError\u001b[0m\u001b[0;31m:\u001b[0m invalid syntax\n"
     ]
    }
   ],
   "source": [
    "SELECT AVG(\"PAYLOAD_MASS__KG_\") AS \"Average_Payload_Mass\"\n",
    "FROM SPACEXTBL\n",
    "WHERE \"Booster_Version\" = 'F9 v1.1';\n"
   ]
  },
  {
   "cell_type": "code",
   "execution_count": 13,
   "id": "2257b0b3-9ea1-4878-af21-9ba66352cfd9",
   "metadata": {},
   "outputs": [
    {
     "name": "stdout",
     "output_type": "stream",
     "text": [
      "average payload mass carried by booster version F9 v1.1: 2928.4\n"
     ]
    }
   ],
   "source": [
    "import sqlite3\n",
    "\n",
    "# Connect to your database (update the path or name if needed)\n",
    "conn = sqlite3.connect('my_data1.db')\n",
    "cursor = conn.cursor()\n",
    "\n",
    "# Execute the query\n",
    "cursor.execute('''\n",
    "    SELECT AVG(\"PAYLOAD_MASS__KG_\") AS \"Average_Payload_Mass\"\n",
    "    FROM SPACEXTBL\n",
    "    WHERE \"Booster_Version\" LIKE 'F9 v1.1';\n",
    "''')\n",
    "\n",
    "# Fetch and print the result\n",
    "result = cursor.fetchone()\n",
    "print(\"average payload mass carried by booster version F9 v1.1:\", result[0])\n"
   ]
  },
  {
   "cell_type": "code",
   "execution_count": 14,
   "id": "392633b2-3f08-4739-975f-0aace1d0d6fa",
   "metadata": {},
   "outputs": [],
   "source": [
    "# Task 5"
   ]
  },
  {
   "cell_type": "code",
   "execution_count": 15,
   "id": "17a6815e-4659-4e43-89e7-84f7e61b8712",
   "metadata": {},
   "outputs": [
    {
     "name": "stdout",
     "output_type": "stream",
     "text": [
      "First succesful landing outcome in ground pad was acheived for ground pad: 2015-12-22\n"
     ]
    }
   ],
   "source": [
    "import sqlite3\n",
    "\n",
    "# Connect to your database (update the path or name if needed)\n",
    "conn = sqlite3.connect('my_data1.db')\n",
    "cursor = conn.cursor()\n",
    "\n",
    "# Execute the query\n",
    "cursor.execute('''\n",
    "    SELECT MIN(\"Date\") AS \"First_Successful_Landing_Date\"\n",
    "    FROM SPACEXTBL\n",
    "    WHERE \"Landing_Outcome\" = 'Success (ground pad)';\n",
    "''')\n",
    "\n",
    "# Fetch and print the result\n",
    "result = cursor.fetchone()\n",
    "print(\"First succesful landing outcome in ground pad was acheived for ground pad:\", result[0])"
   ]
  },
  {
   "cell_type": "code",
   "execution_count": 16,
   "id": "b2f3a131-8b0d-47b5-a69e-45ef3668ca8b",
   "metadata": {},
   "outputs": [],
   "source": [
    "# Task 6"
   ]
  },
  {
   "cell_type": "code",
   "execution_count": 17,
   "id": "9209dfaa-f8f1-4268-a867-285228d03366",
   "metadata": {},
   "outputs": [
    {
     "name": "stdout",
     "output_type": "stream",
     "text": [
      "Names of the boosters which have success in drone ship and have payload mass greater than 4000 but less than 6000: F9 FT B1022\n"
     ]
    }
   ],
   "source": [
    "import sqlite3\n",
    "\n",
    "# Connect to your database (update the path or name if needed)\n",
    "conn = sqlite3.connect('my_data1.db')\n",
    "cursor = conn.cursor()\n",
    "\n",
    "# Execute the query\n",
    "cursor.execute('''\n",
    "    SELECT \"Booster_Version\"\n",
    "    FROM SPACEXTBL\n",
    "    WHERE \"Landing_Outcome\" = 'Success (drone ship)'\n",
    "        AND \"PAYLOAD_MASS__KG_\" > 4000\n",
    "        AND \"PAYLOAD_MASS__KG_\" < 6000;\n",
    "''')\n",
    "\n",
    "# Fetch and print the result\n",
    "result = cursor.fetchone()\n",
    "print(\"Names of the boosters which have success in drone ship and have payload mass greater than 4000 but less than 6000:\", result[0])"
   ]
  },
  {
   "cell_type": "code",
   "execution_count": 18,
   "id": "3f7d74fc-f0b0-4f78-ba05-45e97588905f",
   "metadata": {},
   "outputs": [],
   "source": [
    "# Task 7"
   ]
  },
  {
   "cell_type": "code",
   "execution_count": 22,
   "id": "18b23753-b6cf-4d3d-be71-3d63eb5e6c5d",
   "metadata": {},
   "outputs": [
    {
     "name": "stdout",
     "output_type": "stream",
     "text": [
      "Mission Outcome Summary:\n",
      "Failure (in flight): 1\n",
      "Success: 98\n",
      "Success : 1\n",
      "Success (payload status unclear): 1\n"
     ]
    }
   ],
   "source": [
    "import sqlite3\n",
    "\n",
    "# Connect to your database (update the path or name if needed)\n",
    "conn = sqlite3.connect('my_data1.db')\n",
    "cursor = conn.cursor()\n",
    "\n",
    "# Execute the query\n",
    "cursor.execute('''\n",
    "    SELECT \"Mission_Outcome\", COUNT(*) AS \"Total\"\n",
    "    FROM SPACEXTBL\n",
    "    GROUP BY \"Mission_Outcome\";\n",
    "''')\n",
    "\n",
    "# Fetch and print the result\n",
    "results = cursor.fetchall()\n",
    "print(\"Mission Outcome Summary:\")\n",
    "for row in results:\n",
    "    print(f\"{row[0]}: {row[1]}\")"
   ]
  },
  {
   "cell_type": "code",
   "execution_count": 24,
   "id": "b85045df-4f5e-4f8b-b28f-e0bc13a2d005",
   "metadata": {},
   "outputs": [],
   "source": [
    "# Task 8"
   ]
  },
  {
   "cell_type": "code",
   "execution_count": 25,
   "id": "56620fe0-d1fb-4792-a225-774123069ee7",
   "metadata": {},
   "outputs": [
    {
     "name": "stdout",
     "output_type": "stream",
     "text": [
      "Booster version with maximum payload mass:\n",
      "F9 B5 B1048.4\n",
      "F9 B5 B1049.4\n",
      "F9 B5 B1051.3\n",
      "F9 B5 B1056.4\n",
      "F9 B5 B1048.5\n",
      "F9 B5 B1051.4\n",
      "F9 B5 B1049.5\n",
      "F9 B5 B1060.2 \n",
      "F9 B5 B1058.3 \n",
      "F9 B5 B1051.6\n",
      "F9 B5 B1060.3\n",
      "F9 B5 B1049.7 \n"
     ]
    }
   ],
   "source": [
    "import sqlite3\n",
    "\n",
    "# Connect to your database (update the path or name if needed)\n",
    "conn = sqlite3.connect('my_data1.db')\n",
    "cursor = conn.cursor()\n",
    "\n",
    "# Execute the query\n",
    "cursor.execute('''\n",
    "    SELECT \"Booster_Version\"\n",
    "    FROM SPACEXTBL\n",
    "    WHERE \"PAYLOAD_MASS__KG_\" = (\n",
    "        SELECT MAX(\"PAYLOAD_MASS__KG_\")\n",
    "        FROM SPACEXTBL\n",
    "    );\n",
    "''')\n",
    "\n",
    "# Fetch and print the result\n",
    "results = cursor.fetchall()\n",
    "print(\"Booster version with maximum payload mass:\")\n",
    "for row in results:\n",
    "    print(row[0])"
   ]
  },
  {
   "cell_type": "code",
   "execution_count": 26,
   "id": "1bf10649-85f3-4ed3-bf63-dfa909a999a5",
   "metadata": {},
   "outputs": [],
   "source": [
    "# Task 9"
   ]
  },
  {
   "cell_type": "code",
   "execution_count": 28,
   "id": "e068be30-fa57-4e8f-bdb0-e65d5f9a4568",
   "metadata": {},
   "outputs": [
    {
     "name": "stdout",
     "output_type": "stream",
     "text": [
      "Failure Landings on Drone Ship in 2015 by Month:\n",
      "Month: 01, Outcome: Failure (drone ship), Booster: F9 v1.1 B1012, Launch Site: CCAFS LC-40\n",
      "Month: 04, Outcome: Failure (drone ship), Booster: F9 v1.1 B1015, Launch Site: CCAFS LC-40\n"
     ]
    }
   ],
   "source": [
    "import sqlite3\n",
    "\n",
    "# Connect to your database (update the path or name if needed)\n",
    "conn = sqlite3.connect('my_data1.db')\n",
    "cursor = conn.cursor()\n",
    "\n",
    "# Execute the query\n",
    "cursor.execute('''\n",
    "    SELECT \n",
    "        substr(\"Date\", 6, 2) AS \"Month\",\n",
    "        \"Landing_Outcome\",\n",
    "        \"Booster_Version\",\n",
    "        \"Launch_Site\"\n",
    "    FROM SPACEXTBL\n",
    "    WHERE substr(\"Date\", 1, 4) = '2015'\n",
    "        AND \"Landing_Outcome\" LIKE '%Failure%'\n",
    "        AND \"Landing_Outcome\" LIKE '%drone ship%';\n",
    "''')\n",
    "\n",
    "# Fetch and print the result\n",
    "results = cursor.fetchall()\n",
    "print(\"Failure Landings on Drone Ship in 2015 by Month:\")\n",
    "for row in results:\n",
    "    print(f\"Month: {row[0]}, Outcome: {row[1]}, Booster: {row[2]}, Launch Site: {row[3]}\")"
   ]
  },
  {
   "cell_type": "code",
   "execution_count": 29,
   "id": "edff3308-015a-40fa-9110-9c3da7ecaaa3",
   "metadata": {},
   "outputs": [],
   "source": [
    "# Task 10"
   ]
  },
  {
   "cell_type": "code",
   "execution_count": null,
   "id": "933d5982-e698-45b6-a086-4ed736b41f6a",
   "metadata": {},
   "outputs": [],
   "source": [
    "import sqlite3\n",
    "\n",
    "# Connect to your database (update the path or name if needed)\n",
    "conn = sqlite3.connect('my_data1.db')\n",
    "cursor = conn.cursor()\n",
    "\n",
    "# Execute the query\n",
    "cursor.execute('''\n",
    "    SELECT \"Landing_Outcome\", COUNT(*) AS \"Outcome_Count\"\n",
    "    FROM SPACEXTBL\n",
    "        WHERE \"Date\" BETWEEN '2010-06-04' AND '2017-03-20'\n",
    "        GROUP BY \"Landing_Outcome\"\n",
    "        ORDER BY Outcome_Count DESC;\n",
    "''')\n",
    "\n",
    "# Fetch and print the result\n",
    "results = cursor.fetchall()\n",
    "print(\"Landing Outcome Counts (Ranked) from 2010-06-04 to 2017-03-20:\")\n",
    "for row in results:\n",
    "    print(f\"Outcome: {row[0]}, Count: {row[1]}, Booster: {row[2]}, Launch Site: {row[3]}\")"
   ]
  }
 ],
 "metadata": {
  "kernelspec": {
   "display_name": "Python 3 (ipykernel)",
   "language": "python",
   "name": "python3"
  },
  "language_info": {
   "codemirror_mode": {
    "name": "ipython",
    "version": 3
   },
   "file_extension": ".py",
   "mimetype": "text/x-python",
   "name": "python",
   "nbconvert_exporter": "python",
   "pygments_lexer": "ipython3",
   "version": "3.12.8"
  }
 },
 "nbformat": 4,
 "nbformat_minor": 5
}
